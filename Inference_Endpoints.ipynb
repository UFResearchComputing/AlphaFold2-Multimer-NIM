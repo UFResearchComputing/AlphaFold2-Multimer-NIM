{
 "cells": [
  {
   "cell_type": "markdown",
   "id": "0f74c069-1bc5-4454-93a5-add83a8bd5d2",
   "metadata": {},
   "source": [
    "# AlphaFold2-Multimer Inference Endpoints\n",
    "\n",
    "AlphaFold2-Multimer NIM provides the following endpoints:\n",
    "\n",
    "- `protein-structure/alphafold2/multimer/predict-structure-from-sequences` - Predict a protein structure given an input list of amino acide sequences.\n",
    "\n",
    "- `protein-structure/alphafold2/multimer/predict-MSA-from-sequences` - Perform a Multiple Sequence Alignment (MSA) and return the MSA and templates for AlphaFold2 inference. This endpoint is useful for batching long-running and CPU-intensive MSA runs prior to structure prediction.\n",
    "\n",
    "- `protein-structure/alphafold2/multimer/predict-structure-from-MSA` - Perform structural prediction from an input MSA and templates. This is useful when using a pre-computed or custom/external MSA.\n",
    "\n",
    "**Usage**\n",
    "Below, we outline the three endpoints of the API. We give real examples of requests that should run when the NIM is correctly configured."
   ]
  },
  {
   "cell_type": "markdown",
   "id": "240552b5-8696-4143-bdcc-48045332b258",
   "metadata": {},
   "source": [
    "## Predict Structure from Multiple Input Sequences (Multimers)\n",
    "\n",
    "The `predict-structure-from-sequences` endpoint provides a full end-to-end structural prediction pipeline, i.e. from protein sequences to a multimer protein structure. It requires at least 1 and up to 6 amino acid sequences, though there are many tunable parameters:\n",
    "\n",
    "- `sequences`: An array of valid amino acid sequences. Refer to the table of **[amino acid codes](https://www.ebi.ac.uk/pdbe/docs/roadshow_tutorial/msdtarget/AAcodes.html)** if you are unsure if your sequence is valid.\n",
    "\n",
    "- `databases`: A list containing any of `uniref90`, `mgnify`, and `small_bfd`. These databases contain sequences used to generate a Multiple Sequence Alignment (MSA) that is used as input to the structural prediction neural network in AlphaFold2. In general, passing all three databases will provide the most accurate structural prediction at the cost of requiring the longest runtime.\n",
    "\n",
    "- `algorithm`: The algorithm used for Multiple Sequence Alignment. Currently, only `jackhmmer` is supported.\n",
    "\n",
    "- `e_value`: The sequence e-value for filtering sequences in the MSA. Smaller implies stricter alignments - fewer sequences with higher probability of origin will be included, but this will also reduce the sensitivity of the MSA. The default value of `0.0001` is in general a good choice. This value ranges from 0 to 1.\n",
    "\n",
    "- `bit_score`: The sequence bit-score to use for filtering before MSA. If passed, this is used in place of e-value for filtering. A good starting place is around `200`. This value is greater than zero.\n",
    "\n",
    "- `iterations`: The number of MSA iterations to perform. In general, the default `iterations=1` is sufficient and takes the least amount of time.\n",
    "\n",
    "- `relax_prediction`: Set to `True` to run structural relaxation after prediction. This is set to `True` by default and helps fix clashes in the predicted structure."
   ]
  },
  {
   "cell_type": "code",
   "execution_count": null,
   "id": "f0d81c31-9005-46a2-8e67-317aaa01869f",
   "metadata": {},
   "outputs": [],
   "source": [
    "import requests\n",
    "import json\n",
    "\n",
    "url = \"http://localhost:8000/protein-structure/alphafold2/multimer/predict-structure-from-sequences\"\n",
    "sequences = [\"MNVIDIAIAMAI\", \"IAMNVIDIAAI\"]  # Replace with the actual sequences you want to perform structure prediction on.\n",
    "\n",
    "headers = {\n",
    "    \"content-type\": \"application/json\"\n",
    "}\n",
    "\n",
    "data = {\n",
    "    \"sequences\": sequences,\n",
    "    \"databases\": [\"uniref90\", \"mgnify\", \"small_bfd\"]\n",
    "}\n",
    "\n",
    "response = requests.post(url, headers=headers, data=json.dumps(data))\n",
    "\n",
    "# Check if the request was successful\n",
    "if response.ok:\n",
    "    print(\"Request succeeded:\", response.json())\n",
    "else:\n",
    "    print(\"Request failed:\", response.status_code, response.text)"
   ]
  },
  {
   "cell_type": "markdown",
   "id": "a7aed6c1-8488-4579-a3c4-2c1b68c7a614",
   "metadata": {},
   "source": [
    "The output of this endpoint is a PDB file. The PDB format can easily be viewed using [pymol](https://www.pymol.org/) and other viewing programs; see the [pymol](https://www.pymol.org/) website for documentation and usage."
   ]
  },
  {
   "cell_type": "markdown",
   "id": "b722009f-fd67-4acd-aca2-44480c51b3e2",
   "metadata": {},
   "source": [
    "## Predict MSA from Multiple Input Sequences (Multimers)\n",
    "\n",
    "The `predict-msa-from-sequences` endpoint generates Multiple Sequence Alignments (MSAs) and templates used for structural prediction. This is useful if you want to batch prediction on different (CPU-intensive) nodes."
   ]
  },
  {
   "cell_type": "code",
   "execution_count": null,
   "id": "e6c1f038-aa45-4b2d-a97d-8c3597b50197",
   "metadata": {},
   "outputs": [],
   "source": [
    "import requests\n",
    "import json\n",
    "\n",
    "url = \"http://0:8000/protein-structure/alphafold2/multimer/predict-msa-from-sequences\"\n",
    "sequences = [\"MNVIDIAIAMAI\", \"IAMNVIDIAAI\"]  # Replace with the actual sequences you want to perform structure prediction on.\n",
    "\n",
    "headers = {\n",
    "    \"content-type\": \"application/json\"\n",
    "}\n",
    "\n",
    "data = {\n",
    "    \"sequences\": sequences,\n",
    "    \"databases\": [\"uniref90\", \"mgnify\", \"small_bfd\"]\n",
    "}\n",
    "\n",
    "response = requests.post(url, headers=headers, data=json.dumps(data))\n",
    "\n",
    "# Check if the request was successful\n",
    "if response.ok:\n",
    "    print(\"Request succeeded:\", response.json())\n",
    "else:\n",
    "    print(\"Request failed:\", response.status_code, response.text)"
   ]
  },
  {
   "cell_type": "markdown",
   "id": "1619b95d-b231-45eb-9b2f-ba8229020f10",
   "metadata": {},
   "source": [
    "The `predict-msa-from-sequences` endpoint takes the following parameters:\n",
    "\n",
    "- `sequences`: An array of valid amino acid sequences. Refer to the table of **[amino acid codes](https://www.ebi.ac.uk/pdbe/docs/roadshow_tutorial/msdtarget/AAcodes.html)** if you are unsure if your sequence is valid.\n",
    "\n",
    "- `databases`: A list containing any of `uniref90`, `mgnify`, and `small_bfd`. These databases contain sequences used to generate a Multiple Sequence Alignment (MSA) that is used as input to the structural prediction neural network in AlphaFold2. In general, passing all three databases will provide the most accurate structural prediction at the cost of requiring the longest runtime. If you must pick only one, `uniref90` is considered the best choice, though it is still recommended to run with all three.\n",
    "\n",
    "- `algorithm`: The algorithm used for Multiple Sequence Alignment. Currently, only `jackhmmer` is supported.\n",
    "\n",
    "- `e_value`: The sequence e-value for filtering sequences in the MSA. Smaller implies stricter alignments - fewer sequences with higher probability of origin will be included, but this will also reduce the sensitivity of the MSA. The default value of `0.0001` is in general a good choice. This value ranges from 0 to 1.\n",
    "\n",
    "- `bit_score` The sequence bit-score to use for filtering before MSA. If passed, this is used in place of e-value for filtering. A good starting place is around `200`. This value is greater than zero.\n",
    "\n",
    "- `iterations`: The number of MSA iterations to perform. In general, the default `iterations=1` is sufficient and takes the least amount of time."
   ]
  },
  {
   "cell_type": "markdown",
   "id": "b64358a4-9bbe-4055-82ec-2c84696c340d",
   "metadata": {},
   "source": [
    "## Predict Protein Structure from MSAs\n",
    "\n",
    "The `predict-structure-from-msa` endpoint takes the results of the predict-msa-from-sequences endpoint and runs structural prediction.\n",
    "\n",
    "**Note**: We do not recommend running the msa-to-structure prediction using CURL. This is because the inputs have characters that require careful escaping in bash. For the best user experience, we recommend interacting with this endpoint via the Python requests module.\n",
    "\n",
    "The `predict-structure-from-msa` endpoint takes the following arguments:\n",
    "\n",
    "- `sequences`: An array of valid amino acid sequences. Refer to the table of **[amino acid codes](https://www.ebi.ac.uk/pdbe/docs/roadshow_tutorial/msdtarget/AAcodes.html)** if you are unsure if your sequence is valid.\n",
    "\n",
    "- `alignments`: The MSA results from `predict-msa-from-sequences`. This is an array of dictionaries of tuples of the form: `{&lt;db name&gt; : {&lt;db name&gt;, &lt;MSA output&gt;, &lt;MSA output format&gt;}}`, one for each input amino acid sequence.\n",
    "\n",
    "- `templates`: Templates from the structural database search. These are in a format specific to the internals of AlphaFold2; more detils of the fields can be found here.\n",
    "\n",
    "- relax_prediction: Set to True to run structural relaxation after prediction. This is set to True by default and helps fix clashes in the predicted structure."
   ]
  }
 ],
 "metadata": {
  "kernelspec": {
   "display_name": "Python 3 (ipykernel)",
   "language": "python",
   "name": "python3"
  },
  "language_info": {
   "codemirror_mode": {
    "name": "ipython",
    "version": 3
   },
   "file_extension": ".py",
   "mimetype": "text/x-python",
   "name": "python",
   "nbconvert_exporter": "python",
   "pygments_lexer": "ipython3",
   "version": "3.10.12"
  }
 },
 "nbformat": 4,
 "nbformat_minor": 5
}
